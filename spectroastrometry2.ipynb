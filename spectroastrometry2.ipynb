{
 "cells": [
  {
   "cell_type": "markdown",
   "metadata": {},
   "source": [
    "### calculate the SA signal for each order"
   ]
  },
  {
   "cell_type": "code",
   "execution_count": 1,
   "metadata": {},
   "outputs": [],
   "source": [
    "import matplotlib.pyplot as plt\n",
    "import numpy as np\n",
    "from astropy.io import ascii, fits\n",
    "from matplotlib.gridspec import GridSpec\n",
    "from scipy import interpolate\n",
    "from astropy.visualization import MinMaxInterval, AsinhStretch, HistEqStretch, ImageNormalize\n",
    "from scipy.optimize import curve_fit\n",
    "%matplotlib inline\n",
    "#%matplotlib ipympl"
   ]
  },
  {
   "cell_type": "code",
   "execution_count": 2,
   "metadata": {},
   "outputs": [],
   "source": [
    "# define the input/output parameters\n",
    "source = 'DRTau_PA90'\n",
    "path = '../191008/'            # path to the directory containing the proc and cal files\n",
    "rectfile = source+'_combined'  # combined rectified file for all observations of source\n",
    "calfile = 'wavecal1-28'        # associated wavecal file"
   ]
  },
  {
   "cell_type": "code",
   "execution_count": 3,
   "metadata": {},
   "outputs": [],
   "source": [
    "# load atmospheric transmission file\n",
    "hdu = fits.open('/Users/jpw/idl/Spextool/data/atran75000.fits')\n",
    "tdata = hdu[0].data\n",
    "atrans = interpolate.interp1d(tdata[0,:], tdata[1,:])\n",
    "hdu.close()"
   ]
  },
  {
   "cell_type": "code",
   "execution_count": 4,
   "metadata": {},
   "outputs": [],
   "source": [
    "hdu1 = fits.open(path+'reduced/'+rectfile+'.fits')\n",
    "flux = hdu1[0].data\n",
    "var = hdu1[1].data\n",
    "rect_hd = hdu1[0].header\n",
    "#flux_norm = ImageNormalize(flux, interval=MinMaxInterval(), stretch=HistEqStretch(flux))\n",
    "flux_norm = ImageNormalize(flux, vmin=-5, vmax=5, stretch=AsinhStretch(0.3))\n",
    "nslit, nwl = flux.shape\n",
    "flux_fit = np.zeros(flux.shape) + np.nan\n",
    "\n",
    "hdu2 = fits.open(path+'cal/'+calfile+'.fits')\n",
    "wc_hd = hdu2[0].header\n",
    "orders = wc_hd['ORDERS'].split(',')\n",
    "norders = wc_hd['NORDERS']"
   ]
  },
  {
   "cell_type": "code",
   "execution_count": 5,
   "metadata": {},
   "outputs": [],
   "source": [
    "j1 = 30           # starting point of first order -- figured out by hand\n",
    "dj_AB = 121       # width of each order -- this should match the size of the number of rows in the order extension\n",
    "dj_blank = 30     # gap between orders -- this is figured out by eye and assumed to be the same for all orders"
   ]
  },
  {
   "cell_type": "code",
   "execution_count": 6,
   "metadata": {},
   "outputs": [],
   "source": [
    "# two gaussians with different peaks and offsets but same FWHM\n",
    "# added an extra constant offset since some orders are not perfectly sky-subtracted\n",
    "def gauss2(x, A1, x1, A2, x2, fwhm, C):\n",
    "    sigma = fwhm / (8*np.log(2))\n",
    "    y = A1 * np.exp(-0.5*((x-x1)/sigma)**2) + A2 * np.exp(-0.5*((x-x2)/sigma)**2) + C\n",
    "    return y"
   ]
  },
  {
   "cell_type": "code",
   "execution_count": 7,
   "metadata": {},
   "outputs": [],
   "source": [
    "def fit_median(order_flux, pix_nofit=0, plotfile=None):\n",
    "    # stack an order in wavelength to measure the average slit profile and guide individual fits\n",
    "    im_median = np.nanmedian(order_flux, axis=1)\n",
    "    j = np.arange(im_median.size)\n",
    "    p0 = [np.min(im_median), np.argmin(im_median), np.max(im_median), np.argmax(im_median), 1, 0]\n",
    "\n",
    "    # don't fit within s_nofit of the edges\n",
    "    fit_range = (j > pix_nofit) & (j < j[-1]-pix_nofit)\n",
    "\n",
    "    # fit two gaussians to the data\n",
    "    pfit, pcov = curve_fit(gauss2, j[fit_range], im_median[fit_range], p0)\n",
    "    #perr = np.sqrt(np.diag(pcov))\n",
    "\n",
    "    if plotfile is not None:\n",
    "        fig, ax = plt.subplots(figsize=(8, 4))\n",
    "        ax.step(j, im_median)\n",
    "        ax.plot(j[fit_range], gauss2(j[fit_range], *pfit))\n",
    "        ax.set_xlabel(r\"Row (pixels)\", fontsize=14)\n",
    "        ax.set_ylabel(r\"Flux (Jy)\", fontsize=14)\n",
    "        fig.tight_layout()\n",
    "        fig.savefig(plotfile, dpi=300)\n",
    "\n",
    "    return pfit"
   ]
  },
  {
   "cell_type": "code",
   "execution_count": 8,
   "metadata": {},
   "outputs": [],
   "source": [
    "def calculate_SA(order_flux, pix_nofit=0, nfwhm=1, verbose=False):\n",
    "    ny, nx = order_flux.shape\n",
    "    pfit = fit_median(order_flux, pix_nofit=pix_nofit)#, plotfile='median_profile.png')\n",
    "\n",
    "    jneg =  pfit[1] + np.array([0, -0.5*nfwhm, 0.5*nfwhm]) * pfit[4]\n",
    "    jpos =  pfit[3] + np.array([0, -0.5*nfwhm, 0.5*nfwhm]) * pfit[4]\n",
    "    SA  = np.zeros((4, nx)) + np.nan\n",
    "\n",
    "    for i in range(nx):\n",
    "        flux_slice = order_flux[:, i]\n",
    "        #weights = 1 / order_var[:, i]\n",
    "\n",
    "        jsum1 = 0.\n",
    "        jsum2 = 0.\n",
    "        fsum = 0.\n",
    "        for j1 in range(int(jneg[1]+0.5), int(jneg[2]+1.5)):\n",
    "            f1 = flux_slice[j1]\n",
    "            jsum1 += (j1-jneg[0]) * f1\n",
    "            jsum2 += (j1-jpos[0])**2 * f1\n",
    "            fsum += f1\n",
    "        jmean = jsum1 / fsum\n",
    "        SA[0, i] = jmean\n",
    "        SA[2, i] = np.sqrt((jsum2 / fsum - jmean**2) / (jneg[2] - jneg[1] + 1))\n",
    "\n",
    "        jsum1 = 0.\n",
    "        jsum2 = 0.\n",
    "        fsum = 0.\n",
    "        for j1 in range(int(jpos[1]+0.5), int(jpos[2]+1.5)):\n",
    "            f1 = flux_slice[j1]\n",
    "            jsum1 += (j1-jpos[0]) * f1\n",
    "            jsum2 += (j1-jneg[0])**2 * f1\n",
    "            fsum += f1\n",
    "        jmean = jsum1 / fsum\n",
    "        SA[1, i] = jmean\n",
    "        SA[3, i] = np.sqrt((jsum2 / fsum - jmean**2) / (jpos[2] - jpos[1] + 1))\n",
    "\n",
    "    return SA"
   ]
  },
  {
   "cell_type": "code",
   "execution_count": 9,
   "metadata": {},
   "outputs": [
    {
     "name": "stdout",
     "output_type": "stream",
     "text": [
      "Order = 114, Min/Max wavelength = 4.509228874245151, 4.547326708103899\n",
      "Order = 113, Min/Max wavelength = 4.548991477741863, 4.587426390237711\n",
      "Order = 112, Min/Max wavelength = 4.5894639816760865, 4.628245845118916\n",
      "Order = 111, Min/Max wavelength = 4.630665572555934, 4.669804526074945\n",
      "Order = 110, Min/Max wavelength = 4.672616134581073, 4.712122593827319\n"
     ]
    },
    {
     "name": "stderr",
     "output_type": "stream",
     "text": [
      "/var/folders/tx/plmj8k8969gcvbqj4tml5hvm0000gn/T/ipykernel_23210/2368970709.py:23: RuntimeWarning: invalid value encountered in sqrt\n",
      "  SA[2, i] = np.sqrt((jsum2 / fsum - jmean**2) / (jneg[2] - jneg[1] + 1))\n",
      "/var/folders/tx/plmj8k8969gcvbqj4tml5hvm0000gn/T/ipykernel_23210/2368970709.py:35: RuntimeWarning: invalid value encountered in sqrt\n",
      "  SA[3, i] = np.sqrt((jsum2 / fsum - jmean**2) / (jpos[2] - jpos[1] + 1))\n"
     ]
    },
    {
     "name": "stdout",
     "output_type": "stream",
     "text": [
      "Order = 109, Min/Max wavelength = 4.715336281646959, 4.755220948940934\n",
      "Order = 108, Min/Max wavelength = 4.758847391127053, 4.7991212660760905\n",
      "Order = 107, Min/Max wavelength = 4.80317163954939, 4.84384603016119\n",
      "Order = 106, Min/Max wavelength = 4.84833204029257, 4.889418574612957\n",
      "Order = 105, Min/Max wavelength = 4.894352483435795, 4.935863121740658\n",
      "Order = 104, Min/Max wavelength = 4.941257777907975, 4.9832048254813435\n",
      "Order = 103, Min/Max wavelength = 4.989073696092097, 5.031469816624533\n",
      "Order = 102, Min/Max wavelength = 5.037827021053397, 5.0806852506971545\n",
      "Order = 101, Min/Max wavelength = 5.0875455965731575, 5.130879358693153\n",
      "Order = 100, Min/Max wavelength = 5.138258380184553, 5.182081500846873\n",
      "Order = 99, Min/Max wavelength = 5.1899714963290755, 5.233661102706405\n"
     ]
    }
   ],
   "source": [
    "# loop through all orders and fit the profile for each wavelength, writing results to a csv file\n",
    "# go through orders in reverse order so that the wavelength monotonically increases\n",
    "csvfile = open(source+'_SA.csv', 'w')\n",
    "csvfile.write('wavelength,  off_neg, off_pos, err_neg, err_pos\\n')\n",
    "\n",
    "for n, order in enumerate(orders[::-1]):\n",
    "    norder = len(orders) - n - 1\n",
    "    j0 = j1 + (dj_AB + dj_blank) * norder\n",
    "\n",
    "    wavecal = hdu2[3+norder].data\n",
    "    wl0 = wavecal[0, 0, 1:]\n",
    "    # pad the wavelength file for order 99 where the order cuts off before the end\n",
    "    wl = np.pad(wl0, (0, nwl-wl0.size), 'edge')\n",
    "    slitpos = wavecal[0, 1:, 0]\n",
    "    print(f'Order = {order}, Min/Max wavelength = {wl.min()}, {wl.max()}')\n",
    "\n",
    "    # set to True to get a lot of verbiage on fitting errors\n",
    "    SA = calculate_SA(flux[j0:j0+dj_AB, :], pix_nofit=4, nfwhm=1)\n",
    "\n",
    "    # flag out below a given atmospheric transmission\n",
    "    flag = atrans(wl) < 0.5\n",
    "    SA[:, flag] = np.nan\n",
    "\n",
    "    for i in range(wl.size):\n",
    "        csvfile.write(f'{wl[i]:11.9f}, {SA[0, i]:7.4f}, {SA[1, i]:7.4f}, {SA[2, i]:7.4f}, {SA[3, i]:7.4f}\\n')\n",
    "\n",
    "csvfile.close()"
   ]
  },
  {
   "cell_type": "code",
   "execution_count": null,
   "metadata": {},
   "outputs": [],
   "source": []
  }
 ],
 "metadata": {
  "kernelspec": {
   "display_name": "Python 3 (ipykernel)",
   "language": "python",
   "name": "python3"
  },
  "language_info": {
   "codemirror_mode": {
    "name": "ipython",
    "version": 3
   },
   "file_extension": ".py",
   "mimetype": "text/x-python",
   "name": "python",
   "nbconvert_exporter": "python",
   "pygments_lexer": "ipython3",
   "version": "3.9.13"
  }
 },
 "nbformat": 4,
 "nbformat_minor": 4
}
