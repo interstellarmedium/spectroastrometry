{
 "cells": [
  {
   "cell_type": "markdown",
   "metadata": {},
   "source": [
    "### calculate the SA signal for each order"
   ]
  },
  {
   "cell_type": "code",
   "execution_count": 1,
   "metadata": {},
   "outputs": [],
   "source": [
    "import matplotlib.pyplot as plt\n",
    "import numpy as np\n",
    "from astropy.io import ascii, fits\n",
    "from matplotlib.gridspec import GridSpec\n",
    "from scipy import interpolate\n",
    "from astropy.visualization import MinMaxInterval, AsinhStretch, HistEqStretch, ImageNormalize\n",
    "from scipy.optimize import curve_fit\n",
    "%matplotlib inline\n",
    "#%matplotlib ipympl"
   ]
  },
  {
   "cell_type": "code",
   "execution_count": 26,
   "metadata": {},
   "outputs": [],
   "source": [
    "# define the input/output parameters\n",
    "path = '/Volumes/JPW_4TB/iSHELL/191008/'            # path to the directory containing the reduced and cal files\n",
    "\n",
    "source = 'DRTau_PA90'\n",
    "calfile = 'wavecal1-28'                             # associated wavecal file\n",
    "\n",
    "source = 'HR1473_PA90'\n",
    "calfile = 'wavecal34-45'\n",
    "\n",
    "source = 'HR1473_PA270'\n",
    "calfile = 'wavecal56-67'\n",
    "\n",
    "source = 'DRTau_PA270'\n",
    "calfile = 'wavecal68-95'\n",
    "\n",
    "source = 'HLTau_PA138'\n",
    "calfile = 'wavecal106-115'\n",
    "\n",
    "source = 'HLTau_PA318'\n",
    "calfile = 'wavecal116-125'\n",
    "\n",
    "source = 'HR1473_PA318'\n",
    "calfile = 'wavecal136-155'\n",
    "\n",
    "source = 'HR1473_PA138a'\n",
    "calfile = 'wavecal161-180'\n",
    "\n",
    "source = 'FZTau_PA138'\n",
    "calfile = 'wavecal181-206'\n",
    "\n",
    "source = 'FZTau_PA318'\n",
    "calfile = 'wavecal217-242'\n",
    "\n",
    "source = 'DFTau_PA318'\n",
    "calfile = 'wavecal243-256'\n",
    "\n",
    "source = 'DFTau_PA138'\n",
    "calfile = 'wavecal262-275'\n",
    "\n",
    "source = 'HR1473_PA138b'\n",
    "calfile = 'wavecal281-286'\n",
    "\n",
    "rectfile = source+'_rectified'                      # combined rectified file for all observations of source"
   ]
  },
  {
   "cell_type": "code",
   "execution_count": 27,
   "metadata": {},
   "outputs": [],
   "source": [
    "# load atmospheric transmission file\n",
    "hdu = fits.open('/Users/jpw/idl/Spextool/data/atran75000.fits')\n",
    "tdata = hdu[0].data\n",
    "atrans = interpolate.interp1d(tdata[0,:], tdata[1,:])\n",
    "hdu.close()"
   ]
  },
  {
   "cell_type": "code",
   "execution_count": 28,
   "metadata": {},
   "outputs": [],
   "source": [
    "hdu1 = fits.open(path+'reduced/'+rectfile+'.fits')\n",
    "flux = hdu1[0].data\n",
    "var = hdu1[1].data\n",
    "rect_hd = hdu1[0].header\n",
    "#flux_norm = ImageNormalize(flux, interval=MinMaxInterval(), stretch=HistEqStretch(flux))\n",
    "flux_norm = ImageNormalize(flux, vmin=-5, vmax=5, stretch=AsinhStretch(0.3))\n",
    "nslit, nwl = flux.shape\n",
    "flux_fit = np.zeros(flux.shape) + np.nan\n",
    "\n",
    "hdu2 = fits.open(path+'cal/'+calfile+'.fits')\n",
    "wc_hd = hdu2[0].header\n",
    "orders = wc_hd['ORDERS'].split(',')\n",
    "norders = wc_hd['NORDERS']"
   ]
  },
  {
   "cell_type": "code",
   "execution_count": 29,
   "metadata": {},
   "outputs": [],
   "source": [
    "j1 = 30           # starting point of first order -- figured out by hand\n",
    "dj_AB = 121       # width of each order -- this should match the size of the number of rows in the order extension\n",
    "dj_blank = 30     # gap between orders -- this is figured out by eye and assumed to be the same for all orders"
   ]
  },
  {
   "cell_type": "code",
   "execution_count": 30,
   "metadata": {},
   "outputs": [],
   "source": [
    "# two gaussians with different peaks and offsets but same FWHM\n",
    "# added an extra constant offset since some orders are not perfectly sky-subtracted\n",
    "def gauss2(x, A1, x1, A2, x2, fwhm, C):\n",
    "    sigma = fwhm / (8*np.log(2))\n",
    "    y = A1 * np.exp(-0.5*((x-x1)/sigma)**2) + A2 * np.exp(-0.5*((x-x2)/sigma)**2) + C\n",
    "    return y"
   ]
  },
  {
   "cell_type": "code",
   "execution_count": 31,
   "metadata": {},
   "outputs": [],
   "source": [
    "def fit_median(order_flux, pix_nofit=0, plotfile=None):\n",
    "    # stack an order in wavelength to measure the average slit profile and guide individual fits\n",
    "    im_median = np.nanmedian(order_flux, axis=1)\n",
    "    j = np.arange(im_median.size)\n",
    "    p0 = [np.min(im_median), np.argmin(im_median), np.max(im_median), np.argmax(im_median), 2, 0]\n",
    "\n",
    "    # don't fit within s_nofit of the edges\n",
    "    fit_range = (j > pix_nofit) & (j < j[-1]-pix_nofit)\n",
    "\n",
    "    # fit two gaussians to the data\n",
    "    pfit, pcov = curve_fit(gauss2, j[fit_range], im_median[fit_range], p0)\n",
    "    #perr = np.sqrt(np.diag(pcov))\n",
    "\n",
    "    if plotfile is not None:\n",
    "        fig, ax = plt.subplots(figsize=(8, 4))\n",
    "        ax.step(j, im_median)\n",
    "        ax.plot(j[fit_range], gauss2(j[fit_range], *pfit))\n",
    "        ax.set_xlabel(r\"Row (pixels)\", fontsize=14)\n",
    "        ax.set_ylabel(r\"Flux (Jy)\", fontsize=14)\n",
    "        fig.tight_layout()\n",
    "        fig.savefig(plotfile, dpi=300)\n",
    "\n",
    "    return pfit"
   ]
  },
  {
   "cell_type": "code",
   "execution_count": 32,
   "metadata": {},
   "outputs": [],
   "source": [
    "def calculate_SA(order_flux, pix_nofit=0, nfwhm=1, verbose=False):\n",
    "    ny, nx = order_flux.shape\n",
    "    pfit = fit_median(order_flux, pix_nofit=pix_nofit)#, plotfile='median_profile.png')\n",
    "\n",
    "    jneg =  pfit[1] + np.array([0, -0.5*nfwhm, 0.5*nfwhm]) * pfit[4]\n",
    "    jpos =  pfit[3] + np.array([0, -0.5*nfwhm, 0.5*nfwhm]) * pfit[4]\n",
    "    SA  = np.zeros((4, nx)) + np.nan\n",
    "\n",
    "    for i in range(nx):\n",
    "        flux_slice = order_flux[:, i]\n",
    "        #weights = 1 / order_var[:, i]\n",
    "\n",
    "        jsum1 = 0.\n",
    "        jsum2 = 0.\n",
    "        fsum = 0.\n",
    "        for j1 in range(int(jneg[1]+0.5), int(jneg[2]+1.5)):\n",
    "            f1 = flux_slice[j1]\n",
    "            jsum1 += (j1-jneg[0]) * f1\n",
    "            jsum2 += (j1-jpos[0])**2 * f1\n",
    "            fsum += f1\n",
    "        jmean = jsum1 / fsum\n",
    "        SA[0, i] = jmean\n",
    "        SA[2, i] = np.sqrt((jsum2 / fsum - jmean**2) / (jneg[2] - jneg[1] + 1))\n",
    "\n",
    "        jsum1 = 0.\n",
    "        jsum2 = 0.\n",
    "        fsum = 0.\n",
    "        for j1 in range(int(jpos[1]+0.5), int(jpos[2]+1.5)):\n",
    "            f1 = flux_slice[j1]\n",
    "            jsum1 += (j1-jpos[0]) * f1\n",
    "            jsum2 += (j1-jneg[0])**2 * f1\n",
    "            fsum += f1\n",
    "        jmean = jsum1 / fsum\n",
    "        SA[1, i] = jmean\n",
    "        SA[3, i] = np.sqrt((jsum2 / fsum - jmean**2) / (jpos[2] - jpos[1] + 1))\n",
    "\n",
    "    return SA"
   ]
  },
  {
   "cell_type": "code",
   "execution_count": 33,
   "metadata": {},
   "outputs": [
    {
     "name": "stdout",
     "output_type": "stream",
     "text": [
      "Order = 114, Min/Max wavelength = 4.509236079287453, 4.547328436242248\n",
      "Order = 113, Min/Max wavelength = 4.548995116940285, 4.587427849125159\n",
      "Order = 112, Min/Max wavelength = 4.589464780224784, 4.628247118630138\n",
      "Order = 111, Min/Max wavelength = 4.630664275248911, 4.669805700351494\n"
     ]
    },
    {
     "name": "stderr",
     "output_type": "stream",
     "text": [
      "/var/folders/tx/plmj8k8969gcvbqj4tml5hvm0000gn/T/ipykernel_67596/2368970709.py:35: RuntimeWarning: invalid value encountered in sqrt\n",
      "  SA[3, i] = np.sqrt((jsum2 / fsum - jmean**2) / (jpos[2] - jpos[1] + 1))\n",
      "/var/folders/tx/plmj8k8969gcvbqj4tml5hvm0000gn/T/ipykernel_67596/2368970709.py:23: RuntimeWarning: invalid value encountered in sqrt\n",
      "  SA[2, i] = np.sqrt((jsum2 / fsum - jmean**2) / (jneg[2] - jneg[1] + 1))\n"
     ]
    },
    {
     "name": "stdout",
     "output_type": "stream",
     "text": [
      "Order = 110, Min/Max wavelength = 4.672613506524913, 4.712123757360066\n",
      "Order = 109, Min/Max wavelength = 4.715333109006233, 4.755222192656282\n",
      "Order = 108, Min/Max wavelength = 4.75884448190425, 4.799122683426173\n",
      "Order = 107, Min/Max wavelength = 4.8031698244012855, 4.843847717218301\n",
      "Order = 106, Min/Max wavelength = 4.848332173385103, 4.889420630168413\n",
      "Order = 105, Min/Max wavelength = 4.894355443339662, 4.935865647408387\n",
      "Order = 104, Min/Max wavelength = 4.941264468537273, 4.983207925806451\n",
      "Order = 103, Min/Max wavelength = 4.98908504768853, 5.031473599197125\n",
      "Order = 102, Min/Max wavelength = 5.037843991218735, 5.080689826271753\n",
      "Order = 101, Min/Max wavelength = 5.087569171352807, 5.130884841314025\n",
      "Order = 100, Min/Max wavelength = 5.138265947715741, 5.182088007979612\n",
      "Order = 99, Min/Max wavelength = 5.190011499179449, 5.233667791109747\n"
     ]
    }
   ],
   "source": [
    "# loop through all orders and fit the profile for each wavelength, writing results to a csv file\n",
    "# go through orders in reverse order so that the wavelength monotonically increases\n",
    "csvfile = open(path+'reduced/'+source+'_SA.csv', 'w')\n",
    "csvfile.write('wavelength,  off_neg, off_pos, err_neg, err_pos\\n')\n",
    "\n",
    "for n, order in enumerate(orders[::-1]):\n",
    "    norder = len(orders) - n - 1\n",
    "    j0 = j1 + (dj_AB + dj_blank) * norder\n",
    "\n",
    "    wavecal = hdu2[3+norder].data\n",
    "    wl0 = wavecal[0, 0, 1:]\n",
    "    # pad the wavelength file for order 99 where the order cuts off before the end\n",
    "    wl = np.pad(wl0, (0, nwl-wl0.size), 'edge')\n",
    "    slitpos = wavecal[0, 1:, 0]\n",
    "    print(f'Order = {order}, Min/Max wavelength = {wl.min()}, {wl.max()}')\n",
    "\n",
    "    # set to True to get a lot of verbiage on fitting errors\n",
    "    SA = calculate_SA(flux[j0:j0+dj_AB, :], pix_nofit=5, nfwhm=1)\n",
    "\n",
    "    # flag out below a given atmospheric transmission\n",
    "    flag = atrans(wl) < 0.5\n",
    "    SA[:, flag] = np.nan\n",
    "\n",
    "    for i in range(wl.size):\n",
    "        csvfile.write(f'{wl[i]:11.9f}, {SA[0, i]:7.4f}, {SA[1, i]:7.4f}, {SA[2, i]:7.4f}, {SA[3, i]:7.4f}\\n')\n",
    "\n",
    "csvfile.close()"
   ]
  },
  {
   "cell_type": "code",
   "execution_count": null,
   "metadata": {},
   "outputs": [],
   "source": []
  }
 ],
 "metadata": {
  "kernelspec": {
   "display_name": "Python 3 (ipykernel)",
   "language": "python",
   "name": "python3"
  },
  "language_info": {
   "codemirror_mode": {
    "name": "ipython",
    "version": 3
   },
   "file_extension": ".py",
   "mimetype": "text/x-python",
   "name": "python",
   "nbconvert_exporter": "python",
   "pygments_lexer": "ipython3",
   "version": "3.9.13"
  }
 },
 "nbformat": 4,
 "nbformat_minor": 4
}
