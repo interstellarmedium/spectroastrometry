{
 "cells": [
  {
   "cell_type": "markdown",
   "metadata": {},
   "source": [
    "### Add the rectified images together and write out as a fits file"
   ]
  },
  {
   "cell_type": "code",
   "execution_count": 8,
   "metadata": {},
   "outputs": [],
   "source": [
    "import matplotlib.pyplot as plt\n",
    "import numpy as np\n",
    "import glob\n",
    "from astropy.io import ascii, fits\n",
    "from astropy.visualization import MinMaxInterval, AsinhStretch, HistEqStretch, ImageNormalize\n",
    "from scipy import interpolate\n",
    "from scipy.optimize import curve_fit\n",
    "import seaborn as sns\n",
    "icefire = sns.color_palette(\"icefire\", as_cmap=True)\n",
    "\n",
    "%matplotlib widget"
   ]
  },
  {
   "cell_type": "code",
   "execution_count": 9,
   "metadata": {},
   "outputs": [],
   "source": [
    "# path to the directory containing the combined rectified and cal files\n",
    "path = '/Users/jpw/Analysis/NIRSPEC/iSHELL/240107/'\n",
    "path = '/Volumes/JPW_2TB/iSHELL/230630/'\n",
    "\n",
    "# we only need to access the rectified files in this notebok so hardwire this in\n",
    "path = path + 'rectified/'"
   ]
  },
  {
   "cell_type": "code",
   "execution_count": 10,
   "metadata": {},
   "outputs": [],
   "source": [
    "def check_alignment(source, path, fitsfiles, order=106):\n",
    "\n",
    "    j1 = 30           # starting point of first order -- figured out by hand\n",
    "    dj_AB = 121       # width of each order -- this should match the size of the number of rows in the order extension\n",
    "    dj_blank = 30     # gap between orders -- this is figured out by eye and assumed to be the same for all orders\n",
    "    j0 = j1 + (dj_AB + dj_blank) * (order - 99)\n",
    "\n",
    "    fig, ax = plt.subplots(figsize=(8, 4))\n",
    "    ax.set_xlabel(r\"Row (pixels)\", fontsize=12)\n",
    "    ax.set_ylabel(r\"Flux (Jy)\", fontsize=12)\n",
    "    plt.suptitle(source)\n",
    "    for n, f in enumerate(fitsfiles):\n",
    "        hdu = fits.open(path+f)\n",
    "        flux = hdu[0].data\n",
    "        var = hdu[1].data\n",
    "        hdu.close()\n",
    "\n",
    "        order_flux = flux[j0:j0+dj_AB, :]\n",
    "        im_median = np.nanmedian(order_flux, axis=1)\n",
    "        ax.plot(np.arange(im_median.size), im_median, label=f.strip('rectified').strip('.fits'))\n",
    "\n",
    "    ax.legend()\n",
    "    plt.tight_layout()\n",
    "    plt.savefig(path+source+'_alignment.png')"
   ]
  },
  {
   "cell_type": "code",
   "execution_count": 11,
   "metadata": {},
   "outputs": [],
   "source": [
    "def weighted_average(path, fitsfiles):\n",
    "\n",
    "    for n, f in enumerate(fitsfiles):\n",
    "        hdu = fits.open(path+f)\n",
    "        flux = hdu[0].data\n",
    "        var = hdu[1].data\n",
    "        hdu.close()\n",
    "\n",
    "        w = 1 / var\n",
    "        if n == 0:\n",
    "            flux_sum = w * flux\n",
    "            weights_sum = w\n",
    "        else:\n",
    "            flux_sum += w * flux\n",
    "            weights_sum += w\n",
    "\n",
    "    return flux_sum/weights_sum, 1/weights_sum"
   ]
  },
  {
   "cell_type": "code",
   "execution_count": 12,
   "metadata": {},
   "outputs": [],
   "source": [
    "def plot_combined_image(source, flux, var):\n",
    "    fig = plt.figure(figsize=(13.5, 7))\n",
    "\n",
    "    ax1 = plt.subplot(121)\n",
    "    flux_norm = ImageNormalize(flux, vmin=-15, vmax=15)\n",
    "    im1 = ax1.imshow(flux, origin='lower', norm=flux_norm, cmap=icefire)\n",
    "    cbar1 = fig.colorbar(im1,  ax=ax1, pad=0.01, aspect=50)\n",
    "    cbar1.set_label('DN/s', fontsize = 13, labelpad=1)\n",
    "    ax1.set_title('Combined Flux')\n",
    "\n",
    "    ax2 = plt.subplot(122)\n",
    "    var_norm = ImageNormalize(var, vmin=0, vmax=2)\n",
    "    im2 = ax2.imshow(var, origin='lower', norm=var_norm, cmap='magma')\n",
    "    cbar2 = fig.colorbar(im2,  ax=ax2, pad=0.01, aspect=50)\n",
    "    cbar2.set_label('(DN/s)$^2$', fontsize = 13, labelpad=1)\n",
    "    ax2.set_title('Combined Variance')\n",
    "    \n",
    "    ax1.set_xlabel('Pixel', fontsize = 13, labelpad=10)\n",
    "    ax1.set_ylabel('Pixel', fontsize = 13, labelpad=10)\n",
    "    ax2.set_xlabel('Pixel', fontsize = 13, labelpad=10)\n",
    "\n",
    "    plt.suptitle(source)\n",
    "    plt.tight_layout()\n",
    "    plt.savefig(path+source+'_combined.pdf', bbox_inches='tight', dpi=400)\n",
    "    return"
   ]
  },
  {
   "cell_type": "code",
   "execution_count": 13,
   "metadata": {},
   "outputs": [],
   "source": [
    "def write_combined_fits(source, path, fitsfiles, flux, var):\n",
    "    # write out the combined data as a fits file\n",
    "\n",
    "    # just use the same header as one of the rectified fits files\n",
    "    # TBD: include more metadata about what is being combined\n",
    "    hdu = fits.open(path+fitsfiles[0])\n",
    "    hd0 = hdu[0].header\n",
    "    hdu.close()\n",
    "\n",
    "    hdu_flux = fits.PrimaryHDU(flux, header=hd0)\n",
    "    hdu_var = fits.ImageHDU(var)\n",
    "    hdu_list = fits.HDUList([hdu_flux, hdu_var])\n",
    "    hdu_list.writeto(path+source+'_rectified.fits', overwrite=True)\n",
    "    return"
   ]
  },
  {
   "cell_type": "code",
   "execution_count": 14,
   "metadata": {},
   "outputs": [],
   "source": [
    "%%capture\n",
    "\n",
    "# read in the set of rectified files to be combined source by source\n",
    "# you have to manually create sourcefile.txt in the same directory as the rectified fits files\n",
    "\n",
    "with open(path+'sourcelist.txt') as f:\n",
    "    all_lines = f.read()\n",
    "lines = all_lines.split('\\n')\n",
    "\n",
    "# find the breakpoints between sources\n",
    "nbreak = []\n",
    "for nline, line1 in enumerate(lines):\n",
    "    if line1[0:4] == '----':\n",
    "        nbreak.append(nline)\n",
    "\n",
    "# read in the source and the associated list of rectified files to combine\n",
    "for n1 in range(len(nbreak)-1):\n",
    "    source = lines[nbreak[n1]+1]\n",
    "    wavecal = lines[nbreak[n1]+2]\n",
    "    fitsfiles = []\n",
    "    for n2 in range(nbreak[n1]+3, nbreak[n1+1]):\n",
    "        fitsfiles.append(lines[n2])\n",
    "\n",
    "    # probably don't need to check alignment since each rectified file was produced from the same wavecal\n",
    "    check_alignment(source, path, fitsfiles, order=106)\n",
    "\n",
    "    flux, var = weighted_average(path, fitsfiles)\n",
    "    plot_combined_image(source, flux, var)\n",
    "    write_combined_fits(source, path, fitsfiles, flux, var)"
   ]
  },
  {
   "cell_type": "code",
   "execution_count": null,
   "metadata": {},
   "outputs": [],
   "source": []
  }
 ],
 "metadata": {
  "kernelspec": {
   "display_name": "Python 3 (ipykernel)",
   "language": "python",
   "name": "python3"
  },
  "language_info": {
   "codemirror_mode": {
    "name": "ipython",
    "version": 3
   },
   "file_extension": ".py",
   "mimetype": "text/x-python",
   "name": "python",
   "nbconvert_exporter": "python",
   "pygments_lexer": "ipython3",
   "version": "3.9.13"
  }
 },
 "nbformat": 4,
 "nbformat_minor": 4
}
