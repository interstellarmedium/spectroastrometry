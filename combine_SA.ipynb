{
 "cells": [
  {
   "cell_type": "markdown",
   "id": "7b5fce6c-5cc1-498e-b9ad-6535d100b12e",
   "metadata": {},
   "source": [
    "### combine a list of SA files into a single one for further analysis\n",
    "#### the first file defines the wavelength space onto which the other files are interpolated"
   ]
  },
  {
   "cell_type": "code",
   "execution_count": 17,
   "id": "477bfdd4-6248-4c9f-9b08-311e6484b39d",
   "metadata": {},
   "outputs": [],
   "source": [
    "import pandas as pd\n",
    "from scipy.interpolate import interp1d"
   ]
  },
  {
   "cell_type": "code",
   "execution_count": 18,
   "id": "50ca159e-7568-4e96-980c-1c131a6bbe40",
   "metadata": {},
   "outputs": [],
   "source": [
    "path1 = '/Users/jpw/Analysis/NIRSPEC/iSHELL/240107/rectified/'\n",
    "path2 = path1\n",
    "name1 = 'HLTau_PA228_1_SA.csv'\n",
    "name2 = 'HLTau_PA228_2_SA.csv'\n",
    "files = [path1+name1, path2+name2]"
   ]
  },
  {
   "cell_type": "code",
   "execution_count": 19,
   "id": "c4980152-673f-4ae8-8050-f91a3fd61749",
   "metadata": {},
   "outputs": [],
   "source": [
    "t0 = pd.read_csv(files[0], skipinitialspace=True)\n",
    "wl0 = t0['wavelength']\n",
    "nwl0 = wl0.size\n",
    "SAneg0 = t0['off_neg']\n",
    "SApos0 = t0['off_pos']\n",
    "SAneg_err0 = t0['err_neg']\n",
    "SApos_err0 = t0['err_pos']\n",
    "columns = t0.columns[1:]"
   ]
  },
  {
   "cell_type": "code",
   "execution_count": 20,
   "id": "f496165d-021d-456c-bcec-bc5811ea49c9",
   "metadata": {},
   "outputs": [],
   "source": [
    "# add new columns to the master table (this is kind of cool but overly complicated way to combine the data...)\n",
    "#for n, f in enumerate(files[1:]):\n",
    "#    t = pd.read_csv(f, skipinitialspace=True)\n",
    "#    wl = t['wavelength']\n",
    "#    for c in columns:\n",
    "#        t0.insert(t0.columns.size, c+str(n+1), interp1d(wl, t[c], bounds_error=False)(wl0))"
   ]
  },
  {
   "cell_type": "code",
   "execution_count": 45,
   "id": "b1c31443-10b1-496d-9097-d765c502b08d",
   "metadata": {},
   "outputs": [],
   "source": [
    "# add two arrays with and not or logic on the nan\n",
    "def add_ignore_nan(x, y):\n",
    "    z = []\n",
    "    for i in range(x.size):\n",
    "        x1 = x[i]\n",
    "        y1 = y[i]\n",
    "        if np.isfinite(x1) or np.isfinite(y1):\n",
    "            z.append(np.nansum([x1, y1]))\n",
    "        else:\n",
    "            z.append(np.nan)\n",
    "    return np.array(z)"
   ]
  },
  {
   "cell_type": "code",
   "execution_count": 38,
   "id": "a502eb24-be68-4a3b-aef9-6f585c74d805",
   "metadata": {},
   "outputs": [],
   "source": [
    "# note that the errors in the files are variance so the weights are 1/err\n",
    "# the weighted mean of the error is then Sigma (1) / Sigma (1/err)\n",
    "SAneg_c = SAneg0 / SAneg_err0\n",
    "SApos_c = SApos0 / SApos_err0\n",
    "Wneg_c = 1 / SAneg_err0\n",
    "Wpos_c = 1 / SApos_err0\n",
    "\n",
    "for f in files[1:]:\n",
    "    t = pd.read_csv(f, skipinitialspace=True)\n",
    "    wl = t['wavelength']\n",
    "    SAneg = interp1d(wl, t['off_neg'], bounds_error=False)(wl0)\n",
    "    SApos = interp1d(wl, t['off_pos'], bounds_error=False)(wl0)\n",
    "    SAneg_err = interp1d(wl, t['err_neg'], bounds_error=False)(wl0)\n",
    "    SApos_err = interp1d(wl, t['err_pos'], bounds_error=False)(wl0)\n",
    "    \n",
    "    SAneg_c = add_ignore_nan(SAneg_c, SAneg / SAneg_err)\n",
    "    SApos_c = add_ignore_nan(SApos_c, SApos / SApos_err)\n",
    "    Wneg_c = add_ignore_nan(Wneg_c, 1 / SAneg_err)\n",
    "    Wpos_c = add_ignore_nan(Wpos_c, 1 / SApos_err)\n",
    "\n",
    "n = len(files)\n",
    "SAneg_c /= Wneg_c\n",
    "SApos_c /= Wpos_c\n",
    "SAneg_err_c = n / Wneg_c\n",
    "SApos_err_c = n / Wpos_c"
   ]
  },
  {
   "cell_type": "code",
   "execution_count": 40,
   "id": "f2584cc4-deb5-41e4-b2bc-ef0b2b95a5a5",
   "metadata": {},
   "outputs": [],
   "source": [
    "# write out the combined file\n",
    "csvfile = open('combined_SA.csv', 'w')\n",
    "csvfile.write('wavelength,  off_neg, off_pos, err_neg, err_pos\\n')\n",
    "               \n",
    "for i in range(wl0.size):\n",
    "    csvfile.write(f'{wl0[i]:11.9f}, {SAneg_c[i]:7.4f}, {SApos_c[i]:7.4f}, {SAneg_err_c[i]:7.4f}, {SApos_err_c[i]:7.4f}\\n')\n",
    "\n",
    "    \n",
    "csvfile.close()"
   ]
  },
  {
   "cell_type": "code",
   "execution_count": null,
   "id": "6ad589be",
   "metadata": {},
   "outputs": [],
   "source": []
  }
 ],
 "metadata": {
  "kernelspec": {
   "display_name": "Python 3 (ipykernel)",
   "language": "python",
   "name": "python3"
  },
  "language_info": {
   "codemirror_mode": {
    "name": "ipython",
    "version": 3
   },
   "file_extension": ".py",
   "mimetype": "text/x-python",
   "name": "python",
   "nbconvert_exporter": "python",
   "pygments_lexer": "ipython3",
   "version": "3.9.13"
  }
 },
 "nbformat": 4,
 "nbformat_minor": 5
}
